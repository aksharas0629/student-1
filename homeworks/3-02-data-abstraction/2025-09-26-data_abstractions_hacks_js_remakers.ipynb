{
 "cells": [
  {
   "cell_type": "code",
   "execution_count": null,
   "id": "e4102f0e",
   "metadata": {
    "vscode": {
     "languageId": "yaml"
    }
   },
   "outputs": [],
   "source": [
    "---\n",
    "toc: true\n",
    "comments: false\n",
    "layout: post\n",
    "categories: [CSP Big Idea 3]\n",
    "title: 3.2 Data Abstractions JS Hack\n",
    "author: Jaynee Chauhan, Michelle Ji, Lucas Masterson\n",
    "description: Hack(s) for intro to data abstractions in JS.\n",
    "type: ccc\n",
    "permalink: /csp/big-idea-3/data-abstractions/p4/hacks-js\n",
    "---"
   ]
  },
  {
   "cell_type": "markdown",
   "id": "690b4172",
   "metadata": {},
   "source": [
    "## JS Lab: Library\n",
    "\n",
    "In this lab, similarly to the Python lab, you'll be working on a simple \"database\" for a library to understand CRUD operations in relation to representing redundant, similar data under one structure -- an abstraction.\n",
    "\n",
    "For JavaScript, you'll have to open the web console from Developer Tools (`ctrl + shift + p` -> `Developer: Toggle developer tools`)."
   ]
  },
  {
   "cell_type": "code",
   "execution_count": null,
   "id": "d7228dda",
   "metadata": {
    "vscode": {
     "languageId": "javascript"
    }
   },
   "outputs": [],
   "source": [
    "// Our \"database\" is an array of objects, each representing a book in a library.\n",
    "let library = [\n",
    "    { title: \"1984\", author: \"George Orwell\", checkedOut: false },\n",
    "    { title: \"To Kill a Mockingbird\", author: \"Harper Lee\", checkedOut: true },\n",
    "    { title: \"The Great Gatsby\", author: \"F. Scott Fitzgerald\", checkedOut: false }\n",
    "];\n",
    "\n",
    "// Function to display all books\n",
    "function displayLibrary(lib) {\n",
    "    console.log(\"All books in the library:\");\n",
    "    lib.forEach((book, i) => {\n",
    "        console.log(`Index ${i}: Title: \"${book.title}\", Author: ${book.author}, Checked Out: ${book.checkedOut}`);\n",
    "    });\n",
    "}\n",
    "\n",
    "// Function to add a new book\n",
    "function addBook(lib, title, author, checkedOut = false) {\n",
    "    lib.push({ title, author, checkedOut });\n",
    "    console.log(`Book \"${title}\" added!`);\n",
    "}\n",
    "\n",
    "// Function to find a book by title\n",
    "function findBook(lib, searchTitle) {\n",
    "    let book = lib.find(b => b.title === searchTitle);\n",
    "    if (book) {\n",
    "        console.log(`Found: Title: \"${book.title}\", Author: ${book.author}, Checked Out: ${book.checkedOut}`);\n",
    "    } else {\n",
    "        console.log(`Book titled \"${searchTitle}\" not found.`);\n",
    "    }\n",
    "}\n",
    "\n",
    "// Function to update a book's checkedOut status\n",
    "function updateBook(lib, searchTitle) {\n",
    "    let book = lib.find(b => b.title === searchTitle);\n",
    "    if (book) {\n",
    "        book.checkedOut = !book.checkedOut; // toggle status\n",
    "        console.log(`Updated \"${book.title}\". Checked Out is now: ${book.checkedOut}`);\n",
    "    } else {\n",
    "        console.log(`Book titled \"${searchTitle}\" not found.`);\n",
    "    }\n",
    "}\n",
    "\n",
    "// Function to delete a book\n",
    "function deleteBook(lib, searchTitle) {\n",
    "    let index = lib.findIndex(b => b.title === searchTitle);\n",
    "    if (index !== -1) {\n",
    "        let removed = lib.splice(index, 1);\n",
    "        console.log(`Deleted book: \"${removed[0].title}\"`);\n",
    "    } else {\n",
    "        console.log(`Book titled \"${searchTitle}\" not found.`);\n",
    "    }\n",
    "}\n",
    "\n",
    "// Example usage\n",
    "displayLibrary(library);\n",
    "addBook(library, \"Brave New World\", \"Aldous Huxley\", false);\n",
    "findBook(library, \"1984\");\n",
    "updateBook(library, \"To Kill a Mockingbird\");\n",
    "deleteBook(library, \"The Great Gatsby\");\n",
    "displayLibrary(library);\n"
   ]
  }
 ],
 "metadata": {
  "kernelspec": {
   "display_name": "venv",
   "language": "python",
   "name": "python3"
  },
  "language_info": {
   "codemirror_mode": {
    "name": "ipython",
    "version": 3
   },
   "file_extension": ".py",
   "mimetype": "text/x-python",
   "name": "python",
   "nbconvert_exporter": "python",
   "pygments_lexer": "ipython3",
   "version": "3.13.7"
  }
 },
 "nbformat": 4,
 "nbformat_minor": 5
}
